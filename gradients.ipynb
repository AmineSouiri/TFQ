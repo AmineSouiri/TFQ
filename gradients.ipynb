{
 "cells": [
  {
   "cell_type": "markdown",
   "metadata": {
    "colab_type": "text",
    "id": "xLOXFOT5Q40E"
   },
   "source": [
    "##### Copyright 2020 The TensorFlow Authors."
   ]
  },
  {
   "cell_type": "code",
   "execution_count": 1,
   "metadata": {
    "cellView": "form",
    "colab": {},
    "colab_type": "code",
    "execution": {
     "iopub.execute_input": "2022-02-04T12:24:41.219258Z",
     "iopub.status.busy": "2022-02-04T12:24:41.218614Z",
     "iopub.status.idle": "2022-02-04T12:24:41.220640Z",
     "shell.execute_reply": "2022-02-04T12:24:41.221025Z"
    },
    "id": "iiQkM5ZgQ8r2"
   },
   "outputs": [],
   "source": [
    "#@title Licensed under the Apache License, Version 2.0 (the \"License\");\n",
    "# you may not use this file except in compliance with the License.\n",
    "# You may obtain a copy of the License at\n",
    "#\n",
    "# https://www.apache.org/licenses/LICENSE-2.0\n",
    "#\n",
    "# Unless required by applicable law or agreed to in writing, software\n",
    "# distributed under the License is distributed on an \"AS IS\" BASIS,\n",
    "# WITHOUT WARRANTIES OR CONDITIONS OF ANY KIND, either express or implied.\n",
    "# See the License for the specific language governing permissions and\n",
    "# limitations under the License."
   ]
  },
  {
   "cell_type": "markdown",
   "metadata": {
    "colab_type": "text",
    "id": "j6331ZSsQGY3"
   },
   "source": [
    "# Calculate gradients"
   ]
  },
  {
   "cell_type": "markdown",
   "metadata": {
    "colab_type": "text",
    "id": "i9Jcnb8bQQyd"
   },
   "source": [
    "<table class=\"tfo-notebook-buttons\" align=\"left\">\n",
    "  <td>\n",
    "    <a target=\"_blank\" href=\"https://www.tensorflow.org/quantum/tutorials/gradients\"><img src=\"https://www.tensorflow.org/images/tf_logo_32px.png\" />View on TensorFlow.org</a>\n",
    "  </td>\n",
    "  <td>\n",
    "    <a target=\"_blank\" href=\"https://colab.research.google.com/github/tensorflow/quantum/blob/master/docs/tutorials/gradients.ipynb\"><img src=\"https://www.tensorflow.org/images/colab_logo_32px.png\" />Run in Google Colab</a>\n",
    "  </td>\n",
    "  <td>\n",
    "    <a target=\"_blank\" href=\"https://github.com/tensorflow/quantum/blob/master/docs/tutorials/gradients.ipynb\"><img src=\"https://www.tensorflow.org/images/GitHub-Mark-32px.png\" />View source on GitHub</a>\n",
    "  </td>\n",
    "  <td>\n",
    "    <a href=\"https://storage.googleapis.com/tensorflow_docs/quantum/docs/tutorials/gradients.ipynb\"><img src=\"https://www.tensorflow.org/images/download_logo_32px.png\" />Download notebook</a>\n",
    "  </td>\n",
    "</table>"
   ]
  },
  {
   "cell_type": "markdown",
   "metadata": {
    "colab_type": "text",
    "id": "FxkQA6oblNqI"
   },
   "source": [
    "This tutorial explores gradient calculation algorithms for the expectation values of quantum circuits.\n",
    "\n",
    "Calculating the gradient of the expectation value of a certain observable in a quantum circuit is an involved process. Expectation values of observables do not have the luxury of having analytic gradient formulas that are always easy to write down—unlike traditional machine learning transformations such as matrix multiplication or vector addition that have analytic gradient formulas which are easy to write down. As a result, there are different quantum gradient calculation methods that come in handy for different scenarios. This tutorial compares and contrasts two different differentiation schemes."
   ]
  },
  {
   "cell_type": "markdown",
   "metadata": {
    "colab_type": "text",
    "id": "pvG0gAJqGYJo"
   },
   "source": [
    "## Setup"
   ]
  },
  {
   "cell_type": "code",
   "execution_count": 2,
   "metadata": {
    "colab": {},
    "colab_type": "code",
    "execution": {
     "iopub.execute_input": "2022-02-04T12:24:41.230898Z",
     "iopub.status.busy": "2022-02-04T12:24:41.230288Z",
     "iopub.status.idle": "2022-02-04T12:25:02.588089Z",
     "shell.execute_reply": "2022-02-04T12:25:02.588468Z"
    },
    "id": "TorxE5tnkvb2"
   },
   "outputs": [
    {
     "name": "stdout",
     "output_type": "stream",
     "text": [
      "Collecting tensorflow==2.7.0\r\n"
     ]
    },
    {
     "name": "stdout",
     "output_type": "stream",
     "text": [
      "  Using cached tensorflow-2.7.0-cp37-cp37m-manylinux2010_x86_64.whl (489.6 MB)\r\n"
     ]
    },
    {
     "name": "stdout",
     "output_type": "stream",
     "text": [
      "Requirement already satisfied: protobuf>=3.9.2 in /tmpfs/src/tf_docs_env/lib/python3.7/site-packages (from tensorflow==2.7.0) (3.19.4)\r\n",
      "Requirement already satisfied: termcolor>=1.1.0 in /tmpfs/src/tf_docs_env/lib/python3.7/site-packages (from tensorflow==2.7.0) (1.1.0)\r\n",
      "Requirement already satisfied: wheel<1.0,>=0.32.0 in /tmpfs/src/tf_docs_env/lib/python3.7/site-packages (from tensorflow==2.7.0) (0.37.1)\r\n",
      "Requirement already satisfied: grpcio<2.0,>=1.24.3 in /tmpfs/src/tf_docs_env/lib/python3.7/site-packages (from tensorflow==2.7.0) (1.44.0rc2)\r\n",
      "Requirement already satisfied: wrapt>=1.11.0 in /tmpfs/src/tf_docs_env/lib/python3.7/site-packages (from tensorflow==2.7.0) (1.13.3)\r\n",
      "Requirement already satisfied: tensorboard~=2.6 in /tmpfs/src/tf_docs_env/lib/python3.7/site-packages (from tensorflow==2.7.0) (2.8.0)\r\n"
     ]
    },
    {
     "name": "stdout",
     "output_type": "stream",
     "text": [
      "Collecting tensorflow-estimator<2.8,~=2.7.0rc0\r\n",
      "  Using cached tensorflow_estimator-2.7.0-py2.py3-none-any.whl (463 kB)\r\n"
     ]
    },
    {
     "name": "stdout",
     "output_type": "stream",
     "text": [
      "Collecting keras<2.8,>=2.7.0rc0\r\n",
      "  Using cached keras-2.7.0-py2.py3-none-any.whl (1.3 MB)\r\n"
     ]
    },
    {
     "name": "stdout",
     "output_type": "stream",
     "text": [
      "Collecting gast<0.5.0,>=0.2.1\r\n",
      "  Using cached gast-0.4.0-py3-none-any.whl (9.8 kB)\r\n",
      "Requirement already satisfied: h5py>=2.9.0 in /tmpfs/src/tf_docs_env/lib/python3.7/site-packages (from tensorflow==2.7.0) (3.6.0)\r\n",
      "Requirement already satisfied: flatbuffers<3.0,>=1.12 in /tmpfs/src/tf_docs_env/lib/python3.7/site-packages (from tensorflow==2.7.0) (2.0)\r\n",
      "Requirement already satisfied: absl-py>=0.4.0 in /tmpfs/src/tf_docs_env/lib/python3.7/site-packages (from tensorflow==2.7.0) (1.0.0)\r\n",
      "Requirement already satisfied: keras-preprocessing>=1.1.1 in /tmpfs/src/tf_docs_env/lib/python3.7/site-packages (from tensorflow==2.7.0) (1.1.2)\r\n",
      "Requirement already satisfied: tensorflow-io-gcs-filesystem>=0.21.0 in /tmpfs/src/tf_docs_env/lib/python3.7/site-packages (from tensorflow==2.7.0) (0.23.1)\r\n",
      "Requirement already satisfied: libclang>=9.0.1 in /tmpfs/src/tf_docs_env/lib/python3.7/site-packages (from tensorflow==2.7.0) (13.0.0)\r\n",
      "Requirement already satisfied: google-pasta>=0.1.1 in /tmpfs/src/tf_docs_env/lib/python3.7/site-packages (from tensorflow==2.7.0) (0.2.0)\r\n",
      "Requirement already satisfied: opt-einsum>=2.3.2 in /tmpfs/src/tf_docs_env/lib/python3.7/site-packages (from tensorflow==2.7.0) (3.3.0)\r\n",
      "Requirement already satisfied: numpy>=1.14.5 in /tmpfs/src/tf_docs_env/lib/python3.7/site-packages (from tensorflow==2.7.0) (1.21.5)\r\n",
      "Requirement already satisfied: astunparse>=1.6.0 in /tmpfs/src/tf_docs_env/lib/python3.7/site-packages (from tensorflow==2.7.0) (1.6.3)\r\n",
      "Requirement already satisfied: six>=1.12.0 in /home/kbuilder/.local/lib/python3.7/site-packages (from tensorflow==2.7.0) (1.16.0)\r\n",
      "Requirement already satisfied: typing-extensions>=3.6.6 in /home/kbuilder/.local/lib/python3.7/site-packages (from tensorflow==2.7.0) (4.0.1)\r\n",
      "Requirement already satisfied: cached-property in /tmpfs/src/tf_docs_env/lib/python3.7/site-packages (from h5py>=2.9.0->tensorflow==2.7.0) (1.5.2)\r\n"
     ]
    },
    {
     "name": "stdout",
     "output_type": "stream",
     "text": [
      "Requirement already satisfied: markdown>=2.6.8 in /tmpfs/src/tf_docs_env/lib/python3.7/site-packages (from tensorboard~=2.6->tensorflow==2.7.0) (3.3.6)\r\n",
      "Requirement already satisfied: setuptools>=41.0.0 in /tmpfs/src/tf_docs_env/lib/python3.7/site-packages (from tensorboard~=2.6->tensorflow==2.7.0) (60.7.1)\r\n",
      "Requirement already satisfied: werkzeug>=0.11.15 in /tmpfs/src/tf_docs_env/lib/python3.7/site-packages (from tensorboard~=2.6->tensorflow==2.7.0) (2.0.2)\r\n",
      "Requirement already satisfied: google-auth-oauthlib<0.5,>=0.4.1 in /tmpfs/src/tf_docs_env/lib/python3.7/site-packages (from tensorboard~=2.6->tensorflow==2.7.0) (0.4.6)\r\n",
      "Requirement already satisfied: tensorboard-plugin-wit>=1.6.0 in /tmpfs/src/tf_docs_env/lib/python3.7/site-packages (from tensorboard~=2.6->tensorflow==2.7.0) (1.8.1)\r\n",
      "Requirement already satisfied: google-auth<3,>=1.6.3 in /tmpfs/src/tf_docs_env/lib/python3.7/site-packages (from tensorboard~=2.6->tensorflow==2.7.0) (2.6.0)\r\n",
      "Requirement already satisfied: requests<3,>=2.21.0 in /tmpfs/src/tf_docs_env/lib/python3.7/site-packages (from tensorboard~=2.6->tensorflow==2.7.0) (2.27.1)\r\n",
      "Requirement already satisfied: tensorboard-data-server<0.7.0,>=0.6.0 in /tmpfs/src/tf_docs_env/lib/python3.7/site-packages (from tensorboard~=2.6->tensorflow==2.7.0) (0.6.1)\r\n",
      "Requirement already satisfied: rsa<5,>=3.1.4 in /tmpfs/src/tf_docs_env/lib/python3.7/site-packages (from google-auth<3,>=1.6.3->tensorboard~=2.6->tensorflow==2.7.0) (4.8)\r\n",
      "Requirement already satisfied: cachetools<6.0,>=2.0.0 in /home/kbuilder/.local/lib/python3.7/site-packages (from google-auth<3,>=1.6.3->tensorboard~=2.6->tensorflow==2.7.0) (5.0.0)\r\n",
      "Requirement already satisfied: pyasn1-modules>=0.2.1 in /usr/lib/python3/dist-packages (from google-auth<3,>=1.6.3->tensorboard~=2.6->tensorflow==2.7.0) (0.2.1)\r\n"
     ]
    },
    {
     "name": "stdout",
     "output_type": "stream",
     "text": [
      "Requirement already satisfied: requests-oauthlib>=0.7.0 in /tmpfs/src/tf_docs_env/lib/python3.7/site-packages (from google-auth-oauthlib<0.5,>=0.4.1->tensorboard~=2.6->tensorflow==2.7.0) (1.3.1)\r\n",
      "Requirement already satisfied: importlib-metadata>=4.4 in /home/kbuilder/.local/lib/python3.7/site-packages (from markdown>=2.6.8->tensorboard~=2.6->tensorflow==2.7.0) (4.10.1)\r\n",
      "Requirement already satisfied: charset-normalizer~=2.0.0 in /tmpfs/src/tf_docs_env/lib/python3.7/site-packages (from requests<3,>=2.21.0->tensorboard~=2.6->tensorflow==2.7.0) (2.0.11)\r\n",
      "Requirement already satisfied: certifi>=2017.4.17 in /usr/lib/python3/dist-packages (from requests<3,>=2.21.0->tensorboard~=2.6->tensorflow==2.7.0) (2018.1.18)\r\n",
      "Requirement already satisfied: idna<4,>=2.5 in /usr/lib/python3/dist-packages (from requests<3,>=2.21.0->tensorboard~=2.6->tensorflow==2.7.0) (2.6)\r\n",
      "Requirement already satisfied: urllib3<1.27,>=1.21.1 in /usr/lib/python3/dist-packages (from requests<3,>=2.21.0->tensorboard~=2.6->tensorflow==2.7.0) (1.22)\r\n"
     ]
    },
    {
     "name": "stdout",
     "output_type": "stream",
     "text": [
      "Requirement already satisfied: zipp>=0.5 in /home/kbuilder/.local/lib/python3.7/site-packages (from importlib-metadata>=4.4->markdown>=2.6.8->tensorboard~=2.6->tensorflow==2.7.0) (3.7.0)\r\n",
      "Requirement already satisfied: oauthlib>=3.0.0 in /tmpfs/src/tf_docs_env/lib/python3.7/site-packages (from requests-oauthlib>=0.7.0->google-auth-oauthlib<0.5,>=0.4.1->tensorboard~=2.6->tensorflow==2.7.0) (3.2.0)\r\n",
      "Requirement already satisfied: pyasn1>=0.1.3 in /usr/lib/python3/dist-packages (from rsa<5,>=3.1.4->google-auth<3,>=1.6.3->tensorboard~=2.6->tensorflow==2.7.0) (0.4.2)\r\n"
     ]
    },
    {
     "name": "stdout",
     "output_type": "stream",
     "text": [
      "Installing collected packages: tensorflow-estimator, keras, gast, tensorflow\r\n"
     ]
    },
    {
     "name": "stdout",
     "output_type": "stream",
     "text": [
      "  Attempting uninstall: keras\r\n",
      "    Found existing installation: keras 2.8.0\r\n"
     ]
    },
    {
     "name": "stdout",
     "output_type": "stream",
     "text": [
      "    Uninstalling keras-2.8.0:\r\n",
      "      Successfully uninstalled keras-2.8.0\r\n"
     ]
    },
    {
     "name": "stdout",
     "output_type": "stream",
     "text": [
      "  Attempting uninstall: gast\r\n",
      "    Found existing installation: gast 0.5.3\r\n",
      "    Uninstalling gast-0.5.3:\r\n",
      "      Successfully uninstalled gast-0.5.3\r\n"
     ]
    },
    {
     "name": "stdout",
     "output_type": "stream",
     "text": [
      "  Attempting uninstall: tensorflow\r\n",
      "    Found existing installation: tensorflow 2.8.0\r\n"
     ]
    },
    {
     "name": "stdout",
     "output_type": "stream",
     "text": [
      "    Uninstalling tensorflow-2.8.0:\r\n"
     ]
    },
    {
     "name": "stdout",
     "output_type": "stream",
     "text": [
      "      Successfully uninstalled tensorflow-2.8.0\r\n"
     ]
    },
    {
     "name": "stdout",
     "output_type": "stream",
     "text": [
      "Successfully installed gast-0.4.0 keras-2.7.0 tensorflow-2.7.0 tensorflow-estimator-2.7.0\r\n"
     ]
    }
   ],
   "source": [
    "!pip install tensorflow==2.7.0"
   ]
  },
  {
   "cell_type": "markdown",
   "metadata": {
    "colab_type": "text",
    "id": "OIbP5hklC338"
   },
   "source": [
    "Install TensorFlow Quantum:"
   ]
  },
  {
   "cell_type": "code",
   "execution_count": 3,
   "metadata": {
    "colab": {},
    "colab_type": "code",
    "execution": {
     "iopub.execute_input": "2022-02-04T12:25:02.595178Z",
     "iopub.status.busy": "2022-02-04T12:25:02.592977Z",
     "iopub.status.idle": "2022-02-04T12:25:15.618598Z",
     "shell.execute_reply": "2022-02-04T12:25:15.619022Z"
    },
    "id": "saFHsRDpkvkH"
   },
   "outputs": [
    {
     "name": "stdout",
     "output_type": "stream",
     "text": [
      "Collecting tensorflow-quantum\r\n",
      "  Using cached tensorflow_quantum-0.6.1-cp37-cp37m-manylinux_2_12_x86_64.manylinux2010_x86_64.whl (10.5 MB)\r\n"
     ]
    },
    {
     "name": "stdout",
     "output_type": "stream",
     "text": [
      "Collecting google-auth==1.18.0\r\n",
      "  Using cached google_auth-1.18.0-py2.py3-none-any.whl (90 kB)\r\n"
     ]
    },
    {
     "name": "stdout",
     "output_type": "stream",
     "text": [
      "Collecting sympy==1.8\r\n",
      "  Using cached sympy-1.8-py3-none-any.whl (6.1 MB)\r\n"
     ]
    },
    {
     "name": "stdout",
     "output_type": "stream",
     "text": [
      "Collecting cirq-google>=0.13.1\r\n",
      "  Using cached cirq_google-0.13.1-py3-none-any.whl (437 kB)\r\n"
     ]
    },
    {
     "name": "stdout",
     "output_type": "stream",
     "text": [
      "Collecting google-api-core==1.21.0\r\n",
      "  Using cached google_api_core-1.21.0-py2.py3-none-any.whl (90 kB)\r\n"
     ]
    },
    {
     "name": "stdout",
     "output_type": "stream",
     "text": [
      "Collecting protobuf==3.17.3\r\n",
      "  Using cached protobuf-3.17.3-cp37-cp37m-manylinux_2_5_x86_64.manylinux1_x86_64.whl (1.0 MB)\r\n",
      "Collecting googleapis-common-protos==1.52.0\r\n",
      "  Using cached googleapis_common_protos-1.52.0-py2.py3-none-any.whl (100 kB)\r\n"
     ]
    },
    {
     "name": "stdout",
     "output_type": "stream",
     "text": [
      "Collecting cirq-core>=0.13.1\r\n",
      "  Using cached cirq_core-0.13.1-py3-none-any.whl (1.6 MB)\r\n"
     ]
    },
    {
     "name": "stdout",
     "output_type": "stream",
     "text": [
      "Requirement already satisfied: requests<3.0.0dev,>=2.18.0 in /tmpfs/src/tf_docs_env/lib/python3.7/site-packages (from google-api-core==1.21.0->tensorflow-quantum) (2.27.1)\r\n",
      "Requirement already satisfied: setuptools>=34.0.0 in /tmpfs/src/tf_docs_env/lib/python3.7/site-packages (from google-api-core==1.21.0->tensorflow-quantum) (60.7.1)\r\n",
      "Requirement already satisfied: six>=1.10.0 in /home/kbuilder/.local/lib/python3.7/site-packages (from google-api-core==1.21.0->tensorflow-quantum) (1.16.0)\r\n",
      "Requirement already satisfied: pytz in /tmpfs/src/tf_docs_env/lib/python3.7/site-packages (from google-api-core==1.21.0->tensorflow-quantum) (2021.3)\r\n"
     ]
    },
    {
     "name": "stdout",
     "output_type": "stream",
     "text": [
      "Requirement already satisfied: pyasn1-modules>=0.2.1 in /usr/lib/python3/dist-packages (from google-auth==1.18.0->tensorflow-quantum) (0.2.1)\r\n",
      "Requirement already satisfied: rsa<5,>=3.1.4 in /tmpfs/src/tf_docs_env/lib/python3.7/site-packages (from google-auth==1.18.0->tensorflow-quantum) (4.8)\r\n",
      "Collecting cachetools<5.0,>=2.0.0\r\n",
      "  Using cached cachetools-4.2.4-py3-none-any.whl (10 kB)\r\n"
     ]
    },
    {
     "name": "stdout",
     "output_type": "stream",
     "text": [
      "Collecting mpmath>=0.19\r\n",
      "  Using cached mpmath-1.2.1-py3-none-any.whl (532 kB)\r\n"
     ]
    },
    {
     "name": "stdout",
     "output_type": "stream",
     "text": [
      "Requirement already satisfied: matplotlib~=3.0 in /tmpfs/src/tf_docs_env/lib/python3.7/site-packages (from cirq-core>=0.13.1->tensorflow-quantum) (3.5.1)\r\n"
     ]
    },
    {
     "name": "stdout",
     "output_type": "stream",
     "text": [
      "Collecting sortedcontainers~=2.0\r\n",
      "  Using cached sortedcontainers-2.4.0-py2.py3-none-any.whl (29 kB)\r\n",
      "Requirement already satisfied: pandas in /tmpfs/src/tf_docs_env/lib/python3.7/site-packages (from cirq-core>=0.13.1->tensorflow-quantum) (1.3.5)\r\n",
      "Requirement already satisfied: numpy~=1.16 in /tmpfs/src/tf_docs_env/lib/python3.7/site-packages (from cirq-core>=0.13.1->tensorflow-quantum) (1.21.5)\r\n",
      "Requirement already satisfied: networkx~=2.4 in /tmpfs/src/tf_docs_env/lib/python3.7/site-packages (from cirq-core>=0.13.1->tensorflow-quantum) (2.6.3)\r\n",
      "Requirement already satisfied: scipy in /tmpfs/src/tf_docs_env/lib/python3.7/site-packages (from cirq-core>=0.13.1->tensorflow-quantum) (1.7.3)\r\n",
      "Requirement already satisfied: tqdm in /tmpfs/src/tf_docs_env/lib/python3.7/site-packages (from cirq-core>=0.13.1->tensorflow-quantum) (4.62.3)\r\n",
      "Collecting duet~=0.2.0\r\n",
      "  Using cached duet-0.2.3-py3-none-any.whl (30 kB)\r\n",
      "Requirement already satisfied: typing-extensions in /home/kbuilder/.local/lib/python3.7/site-packages (from cirq-core>=0.13.1->tensorflow-quantum) (4.0.1)\r\n"
     ]
    },
    {
     "name": "stdout",
     "output_type": "stream",
     "text": [
      "Collecting google-api-core[grpc]<2.0.0dev,>=1.14.0\r\n",
      "  Using cached google_api_core-1.31.5-py2.py3-none-any.whl (93 kB)\r\n"
     ]
    },
    {
     "name": "stdout",
     "output_type": "stream",
     "text": [
      "  Using cached google_api_core-1.31.4-py2.py3-none-any.whl (93 kB)\r\n",
      "  Using cached google_api_core-1.31.3-py2.py3-none-any.whl (93 kB)\r\n",
      "  Using cached google_api_core-1.31.2-py2.py3-none-any.whl (93 kB)\r\n"
     ]
    },
    {
     "name": "stdout",
     "output_type": "stream",
     "text": [
      "  Using cached google_api_core-1.31.1-py2.py3-none-any.whl (93 kB)\r\n",
      "  Using cached google_api_core-1.31.0-py2.py3-none-any.whl (93 kB)\r\n",
      "  Using cached google_api_core-1.30.0-py2.py3-none-any.whl (93 kB)\r\n"
     ]
    },
    {
     "name": "stdout",
     "output_type": "stream",
     "text": [
      "  Using cached google_api_core-1.29.0-py2.py3-none-any.whl (93 kB)\r\n",
      "  Using cached google_api_core-1.28.0-py2.py3-none-any.whl (92 kB)\r\n",
      "  Using cached google_api_core-1.27.0-py2.py3-none-any.whl (93 kB)\r\n"
     ]
    },
    {
     "name": "stdout",
     "output_type": "stream",
     "text": [
      "  Using cached google_api_core-1.26.3-py2.py3-none-any.whl (93 kB)\r\n",
      "  Using cached google_api_core-1.26.2-py2.py3-none-any.whl (93 kB)\r\n",
      "  Using cached google_api_core-1.26.1-py2.py3-none-any.whl (92 kB)\r\n",
      "  Using cached google_api_core-1.26.0-py2.py3-none-any.whl (92 kB)\r\n"
     ]
    },
    {
     "name": "stdout",
     "output_type": "stream",
     "text": [
      "  Using cached google_api_core-1.25.1-py2.py3-none-any.whl (92 kB)\r\n",
      "  Using cached google_api_core-1.25.0-py2.py3-none-any.whl (92 kB)\r\n",
      "  Using cached google_api_core-1.24.1-py2.py3-none-any.whl (92 kB)\r\n"
     ]
    },
    {
     "name": "stdout",
     "output_type": "stream",
     "text": [
      "  Using cached google_api_core-1.24.0-py2.py3-none-any.whl (91 kB)\r\n",
      "  Using cached google_api_core-1.23.0-py2.py3-none-any.whl (91 kB)\r\n",
      "  Using cached google_api_core-1.22.4-py2.py3-none-any.whl (91 kB)\r\n"
     ]
    },
    {
     "name": "stdout",
     "output_type": "stream",
     "text": [
      "  Using cached google_api_core-1.22.3-py2.py3-none-any.whl (91 kB)\r\n",
      "  Using cached google_api_core-1.22.2-py2.py3-none-any.whl (91 kB)\r\n",
      "  Using cached google_api_core-1.22.1-py2.py3-none-any.whl (91 kB)\r\n",
      "  Using cached google_api_core-1.22.0-py2.py3-none-any.whl (91 kB)\r\n"
     ]
    },
    {
     "name": "stdout",
     "output_type": "stream",
     "text": [
      "Requirement already satisfied: grpcio<2.0dev,>=1.29.0 in /tmpfs/src/tf_docs_env/lib/python3.7/site-packages (from google-api-core==1.21.0->tensorflow-quantum) (1.44.0rc2)\r\n",
      "Requirement already satisfied: pillow>=6.2.0 in /tmpfs/src/tf_docs_env/lib/python3.7/site-packages (from matplotlib~=3.0->cirq-core>=0.13.1->tensorflow-quantum) (9.0.1)\r\n",
      "Requirement already satisfied: kiwisolver>=1.0.1 in /tmpfs/src/tf_docs_env/lib/python3.7/site-packages (from matplotlib~=3.0->cirq-core>=0.13.1->tensorflow-quantum) (1.3.2)\r\n",
      "Requirement already satisfied: python-dateutil>=2.7 in /tmpfs/src/tf_docs_env/lib/python3.7/site-packages (from matplotlib~=3.0->cirq-core>=0.13.1->tensorflow-quantum) (2.8.2)\r\n",
      "Requirement already satisfied: pyparsing>=2.2.1 in /tmpfs/src/tf_docs_env/lib/python3.7/site-packages (from matplotlib~=3.0->cirq-core>=0.13.1->tensorflow-quantum) (3.0.7)\r\n",
      "Requirement already satisfied: cycler>=0.10 in /tmpfs/src/tf_docs_env/lib/python3.7/site-packages (from matplotlib~=3.0->cirq-core>=0.13.1->tensorflow-quantum) (0.11.0)\r\n",
      "Requirement already satisfied: packaging>=20.0 in /tmpfs/src/tf_docs_env/lib/python3.7/site-packages (from matplotlib~=3.0->cirq-core>=0.13.1->tensorflow-quantum) (21.3)\r\n",
      "Requirement already satisfied: fonttools>=4.22.0 in /tmpfs/src/tf_docs_env/lib/python3.7/site-packages (from matplotlib~=3.0->cirq-core>=0.13.1->tensorflow-quantum) (4.29.1)\r\n"
     ]
    },
    {
     "name": "stdout",
     "output_type": "stream",
     "text": [
      "Requirement already satisfied: charset-normalizer~=2.0.0 in /tmpfs/src/tf_docs_env/lib/python3.7/site-packages (from requests<3.0.0dev,>=2.18.0->google-api-core==1.21.0->tensorflow-quantum) (2.0.11)\r\n",
      "Requirement already satisfied: certifi>=2017.4.17 in /usr/lib/python3/dist-packages (from requests<3.0.0dev,>=2.18.0->google-api-core==1.21.0->tensorflow-quantum) (2018.1.18)\r\n",
      "Requirement already satisfied: idna<4,>=2.5 in /usr/lib/python3/dist-packages (from requests<3.0.0dev,>=2.18.0->google-api-core==1.21.0->tensorflow-quantum) (2.6)\r\n",
      "Requirement already satisfied: urllib3<1.27,>=1.21.1 in /usr/lib/python3/dist-packages (from requests<3.0.0dev,>=2.18.0->google-api-core==1.21.0->tensorflow-quantum) (1.22)\r\n",
      "Requirement already satisfied: pyasn1>=0.1.3 in /usr/lib/python3/dist-packages (from rsa<5,>=3.1.4->google-auth==1.18.0->tensorflow-quantum) (0.4.2)\r\n"
     ]
    },
    {
     "name": "stdout",
     "output_type": "stream",
     "text": [
      "Installing collected packages: sortedcontainers, mpmath, sympy, protobuf, duet, cachetools, googleapis-common-protos, google-auth, google-api-core, cirq-core, cirq-google, tensorflow-quantum\r\n"
     ]
    },
    {
     "name": "stdout",
     "output_type": "stream",
     "text": [
      "  Attempting uninstall: protobuf\r\n",
      "    Found existing installation: protobuf 3.19.4\r\n",
      "    Uninstalling protobuf-3.19.4:\r\n"
     ]
    },
    {
     "name": "stdout",
     "output_type": "stream",
     "text": [
      "      Successfully uninstalled protobuf-3.19.4\r\n"
     ]
    },
    {
     "name": "stdout",
     "output_type": "stream",
     "text": [
      "  Attempting uninstall: cachetools\r\n",
      "    Found existing installation: cachetools 5.0.0\r\n",
      "    Not uninstalling cachetools at /home/kbuilder/.local/lib/python3.7/site-packages, outside environment /tmpfs/src/tf_docs_env\r\n",
      "    Can't uninstall 'cachetools'. No files were found to uninstall.\r\n",
      "  Attempting uninstall: googleapis-common-protos\r\n",
      "    Found existing installation: googleapis-common-protos 1.54.0\r\n"
     ]
    },
    {
     "name": "stdout",
     "output_type": "stream",
     "text": [
      "    Uninstalling googleapis-common-protos-1.54.0:\r\n"
     ]
    },
    {
     "name": "stdout",
     "output_type": "stream",
     "text": [
      "      Successfully uninstalled googleapis-common-protos-1.54.0\r\n"
     ]
    },
    {
     "name": "stdout",
     "output_type": "stream",
     "text": [
      "  Attempting uninstall: google-auth\r\n",
      "    Found existing installation: google-auth 2.6.0\r\n",
      "    Uninstalling google-auth-2.6.0:\r\n"
     ]
    },
    {
     "name": "stdout",
     "output_type": "stream",
     "text": [
      "      Successfully uninstalled google-auth-2.6.0\r\n"
     ]
    },
    {
     "name": "stdout",
     "output_type": "stream",
     "text": [
      "Successfully installed cachetools-4.2.4 cirq-core-0.13.1 cirq-google-0.13.1 duet-0.2.3 google-api-core-1.21.0 google-auth-1.18.0 googleapis-common-protos-1.52.0 mpmath-1.2.1 protobuf-3.17.3 sortedcontainers-2.4.0 sympy-1.8 tensorflow-quantum-0.6.1\r\n"
     ]
    }
   ],
   "source": [
    "!pip install tensorflow-quantum"
   ]
  },
  {
   "cell_type": "code",
   "execution_count": 4,
   "metadata": {
    "colab": {},
    "colab_type": "code",
    "execution": {
     "iopub.execute_input": "2022-02-04T12:25:15.624213Z",
     "iopub.status.busy": "2022-02-04T12:25:15.623557Z",
     "iopub.status.idle": "2022-02-04T12:25:15.692196Z",
     "shell.execute_reply": "2022-02-04T12:25:15.692564Z"
    },
    "id": "4Ql5PW-ACO0J"
   },
   "outputs": [
    {
     "data": {
      "text/plain": [
       "<module 'pkg_resources' from '/tmpfs/src/tf_docs_env/lib/python3.7/site-packages/pkg_resources/__init__.py'>"
      ]
     },
     "execution_count": 4,
     "metadata": {},
     "output_type": "execute_result"
    }
   ],
   "source": [
    "# Update package resources to account for version changes.\n",
    "import importlib, pkg_resources\n",
    "importlib.reload(pkg_resources)"
   ]
  },
  {
   "cell_type": "markdown",
   "metadata": {
    "colab_type": "text",
    "id": "MkTqyoSxGUfB"
   },
   "source": [
    "Now import TensorFlow and the module dependencies:"
   ]
  },
  {
   "cell_type": "code",
   "execution_count": 5,
   "metadata": {
    "colab": {},
    "colab_type": "code",
    "execution": {
     "iopub.execute_input": "2022-02-04T12:25:15.697967Z",
     "iopub.status.busy": "2022-02-04T12:25:15.697408Z",
     "iopub.status.idle": "2022-02-04T12:25:24.900200Z",
     "shell.execute_reply": "2022-02-04T12:25:24.900617Z"
    },
    "id": "enZ300Bflq80"
   },
   "outputs": [
    {
     "name": "stderr",
     "output_type": "stream",
     "text": [
      "2022-02-04 12:25:24.733670: E tensorflow/stream_executor/cuda/cuda_driver.cc:271] failed call to cuInit: CUDA_ERROR_NO_DEVICE: no CUDA-capable device is detected\n"
     ]
    }
   ],
   "source": [
    "import tensorflow as tf\n",
    "import tensorflow_quantum as tfq\n",
    "\n",
    "import cirq\n",
    "import sympy\n",
    "import numpy as np\n",
    "\n",
    "# visualization tools\n",
    "%matplotlib inline\n",
    "import matplotlib.pyplot as plt\n",
    "from cirq.contrib.svg import SVGCircuit"
   ]
  },
  {
   "cell_type": "markdown",
   "metadata": {
    "colab_type": "text",
    "id": "b08Mmbs8lr81"
   },
   "source": [
    "## 1. Preliminary\n",
    "\n",
    "Let's make the notion of gradient calculation for quantum circuits a little more concrete. Suppose you have a parameterized circuit like this one:"
   ]
  },
  {
   "cell_type": "code",
   "execution_count": 6,
   "metadata": {
    "colab": {},
    "colab_type": "code",
    "execution": {
     "iopub.execute_input": "2022-02-04T12:25:24.910330Z",
     "iopub.status.busy": "2022-02-04T12:25:24.909752Z",
     "iopub.status.idle": "2022-02-04T12:25:24.948772Z",
     "shell.execute_reply": "2022-02-04T12:25:24.949156Z"
    },
    "id": "YkPYJ_Ak-GKu"
   },
   "outputs": [
    {
     "name": "stderr",
     "output_type": "stream",
     "text": [
      "findfont: Font family ['Arial'] not found. Falling back to DejaVu Sans.\n"
     ]
    },
    {
     "data": {
      "image/svg+xml": [
       "<svg xmlns=\"http://www.w3.org/2000/svg\" width=\"197.3653515625\" height=\"50.0\"><line x1=\"34.7588671875\" x2=\"167.3653515625\" y1=\"25.0\" y2=\"25.0\" stroke=\"#1967d2\" stroke-width=\"1\" /><rect x=\"10.0\" y=\"5.0\" width=\"49.517734375\" height=\"40\" stroke=\"black\" fill=\"white\" stroke-width=\"0\" /><text x=\"34.7588671875\" y=\"25.0\" dominant-baseline=\"middle\" text-anchor=\"middle\" font-size=\"14px\" font-family=\"Arial\">(0, 0): </text><rect x=\"79.517734375\" y=\"5.0\" width=\"67.8476171875\" height=\"40\" stroke=\"black\" fill=\"white\" stroke-width=\"1\" /><text x=\"113.44154296875001\" y=\"25.0\" dominant-baseline=\"middle\" text-anchor=\"middle\" font-size=\"14px\" font-family=\"Arial\">Y^alpha</text></svg>"
      ],
      "text/plain": [
       "<cirq.contrib.svg.svg.SVGCircuit at 0x7ff07e81c550>"
      ]
     },
     "execution_count": 6,
     "metadata": {},
     "output_type": "execute_result"
    }
   ],
   "source": [
    "qubit = cirq.GridQubit(0, 0)\n",
    "my_circuit = cirq.Circuit(cirq.Y(qubit)**sympy.Symbol('alpha'))\n",
    "SVGCircuit(my_circuit)"
   ]
  },
  {
   "cell_type": "markdown",
   "metadata": {
    "colab_type": "text",
    "id": "wgQIlCWy-MVr"
   },
   "source": [
    "Along with an observable:"
   ]
  },
  {
   "cell_type": "code",
   "execution_count": 7,
   "metadata": {
    "colab": {},
    "colab_type": "code",
    "execution": {
     "iopub.execute_input": "2022-02-04T12:25:24.954080Z",
     "iopub.status.busy": "2022-02-04T12:25:24.953504Z",
     "iopub.status.idle": "2022-02-04T12:25:24.955562Z",
     "shell.execute_reply": "2022-02-04T12:25:24.955923Z"
    },
    "id": "xurmJdFy-Jae"
   },
   "outputs": [
    {
     "data": {
      "text/plain": [
       "cirq.X(cirq.GridQubit(0, 0))"
      ]
     },
     "execution_count": 7,
     "metadata": {},
     "output_type": "execute_result"
    }
   ],
   "source": [
    "pauli_x = cirq.X(qubit)\n",
    "pauli_x"
   ]
  },
  {
   "cell_type": "markdown",
   "metadata": {
    "colab_type": "text",
    "id": "j3OzKYe5NT_W"
   },
   "source": [
    "Looking at this operator you know that $⟨Y(\\alpha)| X | Y(\\alpha)⟩ = \\sin(\\pi \\alpha)$"
   ]
  },
  {
   "cell_type": "code",
   "execution_count": 8,
   "metadata": {
    "colab": {},
    "colab_type": "code",
    "execution": {
     "iopub.execute_input": "2022-02-04T12:25:24.963485Z",
     "iopub.status.busy": "2022-02-04T12:25:24.962896Z",
     "iopub.status.idle": "2022-02-04T12:25:24.965339Z",
     "shell.execute_reply": "2022-02-04T12:25:24.965724Z"
    },
    "id": "Ps-pd2mndXs7"
   },
   "outputs": [
    {
     "name": "stdout",
     "output_type": "stream",
     "text": [
      "Expectation= 0.80901700258255\n",
      "Sin Formula= 0.8090169943749475\n"
     ]
    }
   ],
   "source": [
    "def my_expectation(op, alpha):\n",
    "    \"\"\"Compute ⟨Y(alpha)| `op` | Y(alpha)⟩\"\"\"\n",
    "    params = {'alpha': alpha}\n",
    "    sim = cirq.Simulator()\n",
    "    final_state_vector = sim.simulate(my_circuit, params).final_state_vector\n",
    "    return op.expectation_from_state_vector(final_state_vector, {qubit: 0}).real\n",
    "\n",
    "\n",
    "my_alpha = 0.3\n",
    "print(\"Expectation=\", my_expectation(pauli_x, my_alpha))\n",
    "print(\"Sin Formula=\", np.sin(np.pi * my_alpha))"
   ]
  },
  {
   "cell_type": "markdown",
   "metadata": {
    "colab_type": "text",
    "id": "zcCX109cJUaz"
   },
   "source": [
    " and if you define $f_{1}(\\alpha) = ⟨Y(\\alpha)| X | Y(\\alpha)⟩$ then $f_{1}^{'}(\\alpha) = \\pi \\cos(\\pi \\alpha)$. Let's check this:"
   ]
  },
  {
   "cell_type": "code",
   "execution_count": 9,
   "metadata": {
    "colab": {},
    "colab_type": "code",
    "execution": {
     "iopub.execute_input": "2022-02-04T12:25:24.972871Z",
     "iopub.status.busy": "2022-02-04T12:25:24.972281Z",
     "iopub.status.idle": "2022-02-04T12:25:24.975134Z",
     "shell.execute_reply": "2022-02-04T12:25:24.974628Z"
    },
    "id": "VMq7EayNRyQb"
   },
   "outputs": [
    {
     "name": "stdout",
     "output_type": "stream",
     "text": [
      "Finite difference: 1.8063604831695557\n",
      "Cosine formula:    1.8465818304904567\n"
     ]
    }
   ],
   "source": [
    "def my_grad(obs, alpha, eps=0.01):\n",
    "    grad = 0\n",
    "    f_x = my_expectation(obs, alpha)\n",
    "    f_x_prime = my_expectation(obs, alpha + eps)\n",
    "    return ((f_x_prime - f_x) / eps).real\n",
    "\n",
    "\n",
    "print('Finite difference:', my_grad(pauli_x, my_alpha))\n",
    "print('Cosine formula:   ', np.pi * np.cos(np.pi * my_alpha))"
   ]
  },
  {
   "cell_type": "markdown",
   "metadata": {
    "colab_type": "text",
    "id": "-SUlLpXBeicF"
   },
   "source": [
    "## 2. The need for a differentiator\n",
    "\n",
    "With larger circuits, you won't always be so lucky to have a formula that precisely calculates the gradients of a given quantum circuit. In the event that a simple formula isn't enough to calculate the gradient, the `tfq.differentiators.Differentiator` class allows you to define algorithms for computing the gradients of your circuits. For instance you can recreate the above example in TensorFlow Quantum (TFQ) with:"
   ]
  },
  {
   "cell_type": "code",
   "execution_count": 10,
   "metadata": {
    "colab": {},
    "colab_type": "code",
    "execution": {
     "iopub.execute_input": "2022-02-04T12:25:24.980033Z",
     "iopub.status.busy": "2022-02-04T12:25:24.979446Z",
     "iopub.status.idle": "2022-02-04T12:25:25.003793Z",
     "shell.execute_reply": "2022-02-04T12:25:25.003338Z"
    },
    "id": "Om76ZLu8NT_i"
   },
   "outputs": [
    {
     "data": {
      "text/plain": [
       "<tf.Tensor: shape=(1, 1), dtype=float32, numpy=array([[0.80901706]], dtype=float32)>"
      ]
     },
     "execution_count": 10,
     "metadata": {},
     "output_type": "execute_result"
    }
   ],
   "source": [
    "expectation_calculation = tfq.layers.Expectation(\n",
    "    differentiator=tfq.differentiators.ForwardDifference(grid_spacing=0.01))\n",
    "\n",
    "expectation_calculation(my_circuit,\n",
    "                        operators=pauli_x,\n",
    "                        symbol_names=['alpha'],\n",
    "                        symbol_values=[[my_alpha]])"
   ]
  },
  {
   "cell_type": "markdown",
   "metadata": {
    "colab_type": "text",
    "id": "lx3y2DX9NT_k"
   },
   "source": [
    "However, if you switch to estimating expectation based on sampling (what would happen on a true device) the values can change a little bit. This means you now have an imperfect estimate:"
   ]
  },
  {
   "cell_type": "code",
   "execution_count": 11,
   "metadata": {
    "colab": {},
    "colab_type": "code",
    "execution": {
     "iopub.execute_input": "2022-02-04T12:25:25.008540Z",
     "iopub.status.busy": "2022-02-04T12:25:25.007934Z",
     "iopub.status.idle": "2022-02-04T12:25:25.021300Z",
     "shell.execute_reply": "2022-02-04T12:25:25.020858Z"
    },
    "id": "v27rRyAHNT_l"
   },
   "outputs": [
    {
     "data": {
      "text/plain": [
       "<tf.Tensor: shape=(1, 1), dtype=float32, numpy=array([[0.836]], dtype=float32)>"
      ]
     },
     "execution_count": 11,
     "metadata": {},
     "output_type": "execute_result"
    }
   ],
   "source": [
    "sampled_expectation_calculation = tfq.layers.SampledExpectation(\n",
    "    differentiator=tfq.differentiators.ForwardDifference(grid_spacing=0.01))\n",
    "\n",
    "sampled_expectation_calculation(my_circuit,\n",
    "                                operators=pauli_x,\n",
    "                                repetitions=500,\n",
    "                                symbol_names=['alpha'],\n",
    "                                symbol_values=[[my_alpha]])"
   ]
  },
  {
   "cell_type": "markdown",
   "metadata": {
    "colab_type": "text",
    "id": "Igwa3EnzNT_p"
   },
   "source": [
    "This can quickly compound into a serious accuracy problem when it comes to gradients:"
   ]
  },
  {
   "cell_type": "code",
   "execution_count": 12,
   "metadata": {
    "colab": {},
    "colab_type": "code",
    "execution": {
     "iopub.execute_input": "2022-02-04T12:25:25.031709Z",
     "iopub.status.busy": "2022-02-04T12:25:25.031102Z",
     "iopub.status.idle": "2022-02-04T12:25:25.362491Z",
     "shell.execute_reply": "2022-02-04T12:25:25.362890Z"
    },
    "id": "StljXH38NT_q"
   },
   "outputs": [
    {
     "data": {
      "text/plain": [
       "<matplotlib.legend.Legend at 0x7ff07d556190>"
      ]
     },
     "execution_count": 12,
     "metadata": {},
     "output_type": "execute_result"
    },
    {
     "data": {
      "image/png": "[encoded data removed]",
      "text/plain": [
       "<Figure size 432x288 with 1 Axes>"
      ]
     },
     "metadata": {
      "needs_background": "light"
     },
     "output_type": "display_data"
    }
   ],
   "source": [
    "# Make input_points = [batch_size, 1] array.\n",
    "input_points = np.linspace(0, 5, 200)[:, np.newaxis].astype(np.float32)\n",
    "exact_outputs = expectation_calculation(my_circuit,\n",
    "                                        operators=pauli_x,\n",
    "                                        symbol_names=['alpha'],\n",
    "                                        symbol_values=input_points)\n",
    "imperfect_outputs = sampled_expectation_calculation(my_circuit,\n",
    "                                                    operators=pauli_x,\n",
    "                                                    repetitions=500,\n",
    "                                                    symbol_names=['alpha'],\n",
    "                                                    symbol_values=input_points)\n",
    "plt.title('Forward Pass Values')\n",
    "plt.xlabel('$x$')\n",
    "plt.ylabel('$f(x)$')\n",
    "plt.plot(input_points, exact_outputs, label='Analytic')\n",
    "plt.plot(input_points, imperfect_outputs, label='Sampled')\n",
    "plt.legend()"
   ]
  },
  {
   "cell_type": "code",
   "execution_count": 13,
   "metadata": {
    "colab": {},
    "colab_type": "code",
    "execution": {
     "iopub.execute_input": "2022-02-04T12:25:25.375111Z",
     "iopub.status.busy": "2022-02-04T12:25:25.374443Z",
     "iopub.status.idle": "2022-02-04T12:25:26.537378Z",
     "shell.execute_reply": "2022-02-04T12:25:26.537779Z"
    },
    "id": "dfXObk7KNT_t"
   },
   "outputs": [
    {
     "data": {
      "text/plain": [
       "<matplotlib.legend.Legend at 0x7ff07adb8dd0>"
      ]
     },
     "execution_count": 13,
     "metadata": {},
     "output_type": "execute_result"
    },
    {
     "data": {
      "image/png": "[encoded data removed]",
      "text/plain": [
       "<Figure size 432x288 with 1 Axes>"
      ]
     },
     "metadata": {
      "needs_background": "light"
     },
     "output_type": "display_data"
    }
   ],
   "source": [
    "# Gradients are a much different story.\n",
    "values_tensor = tf.convert_to_tensor(input_points)\n",
    "\n",
    "with tf.GradientTape() as g:\n",
    "    g.watch(values_tensor)\n",
    "    exact_outputs = expectation_calculation(my_circuit,\n",
    "                                            operators=pauli_x,\n",
    "                                            symbol_names=['alpha'],\n",
    "                                            symbol_values=values_tensor)\n",
    "analytic_finite_diff_gradients = g.gradient(exact_outputs, values_tensor)\n",
    "\n",
    "with tf.GradientTape() as g:\n",
    "    g.watch(values_tensor)\n",
    "    imperfect_outputs = sampled_expectation_calculation(\n",
    "        my_circuit,\n",
    "        operators=pauli_x,\n",
    "        repetitions=500,\n",
    "        symbol_names=['alpha'],\n",
    "        symbol_values=values_tensor)\n",
    "sampled_finite_diff_gradients = g.gradient(imperfect_outputs, values_tensor)\n",
    "\n",
    "plt.title('Gradient Values')\n",
    "plt.xlabel('$x$')\n",
    "plt.ylabel('$f^{\\'}(x)$')\n",
    "plt.plot(input_points, analytic_finite_diff_gradients, label='Analytic')\n",
    "plt.plot(input_points, sampled_finite_diff_gradients, label='Sampled')\n",
    "plt.legend()"
   ]
  },
  {
   "cell_type": "markdown",
   "metadata": {
    "colab_type": "text",
    "id": "Ld34TJvTNT_w"
   },
   "source": [
    "Here you can see that although the finite difference formula is fast to compute the gradients themselves in the analytical case, when it came to the sampling based methods it was far too noisy. More careful techniques must be used to ensure a good gradient can be calculated. Next you will look at a much slower technique that wouldn't be as well suited for analytical expectation gradient calculations, but does perform much better in the real-world sample based case:"
   ]
  },
  {
   "cell_type": "code",
   "execution_count": 14,
   "metadata": {
    "colab": {},
    "colab_type": "code",
    "execution": {
     "iopub.execute_input": "2022-02-04T12:25:26.549599Z",
     "iopub.status.busy": "2022-02-04T12:25:26.549013Z",
     "iopub.status.idle": "2022-02-04T12:25:27.353409Z",
     "shell.execute_reply": "2022-02-04T12:25:27.353865Z"
    },
    "id": "JsBxH_RaNT_x"
   },
   "outputs": [
    {
     "data": {
      "text/plain": [
       "<matplotlib.legend.Legend at 0x7ff07ad9ff90>"
      ]
     },
     "execution_count": 14,
     "metadata": {},
     "output_type": "execute_result"
    },
    {
     "data": {
      "image/png": "[encoded data removed]",
      "text/plain": [
       "<Figure size 432x288 with 1 Axes>"
      ]
     },
     "metadata": {
      "needs_background": "light"
     },
     "output_type": "display_data"
    }
   ],
   "source": [
    "# A smarter differentiation scheme.\n",
    "gradient_safe_sampled_expectation = tfq.layers.SampledExpectation(\n",
    "    differentiator=tfq.differentiators.ParameterShift())\n",
    "\n",
    "with tf.GradientTape() as g:\n",
    "    g.watch(values_tensor)\n",
    "    imperfect_outputs = gradient_safe_sampled_expectation(\n",
    "        my_circuit,\n",
    "        operators=pauli_x,\n",
    "        repetitions=500,\n",
    "        symbol_names=['alpha'],\n",
    "        symbol_values=values_tensor)\n",
    "\n",
    "sampled_param_shift_gradients = g.gradient(imperfect_outputs, values_tensor)\n",
    "\n",
    "plt.title('Gradient Values')\n",
    "plt.xlabel('$x$')\n",
    "plt.ylabel('$f^{\\'}(x)$')\n",
    "plt.plot(input_points, analytic_finite_diff_gradients, label='Analytic')\n",
    "plt.plot(input_points, sampled_param_shift_gradients, label='Sampled')\n",
    "plt.legend()"
   ]
  },
  {
   "cell_type": "markdown",
   "metadata": {
    "colab_type": "text",
    "id": "0xlUlh8wNT_z"
   },
   "source": [
    "From the above you can see that certain differentiators are best used for particular research scenarios. In general, the slower sample-based methods that are robust to device noise, etc., are great differentiators when testing or implementing algorithms in a more \"real world\" setting. Faster methods like finite difference are great for analytical calculations and you want higher throughput, but aren't yet concerned with the device viability of your algorithm."
   ]
  },
  {
   "cell_type": "markdown",
   "metadata": {
    "colab_type": "text",
    "id": "FaijzZ4MNT_0"
   },
   "source": [
    "## 3. Multiple observables\n",
    "\n",
    "Let's introduce a second observable and see how TensorFlow Quantum supports multiple observables for a single circuit."
   ]
  },
  {
   "cell_type": "code",
   "execution_count": 15,
   "metadata": {
    "colab": {},
    "colab_type": "code",
    "execution": {
     "iopub.execute_input": "2022-02-04T12:25:27.359093Z",
     "iopub.status.busy": "2022-02-04T12:25:27.358420Z",
     "iopub.status.idle": "2022-02-04T12:25:27.361107Z",
     "shell.execute_reply": "2022-02-04T12:25:27.360657Z"
    },
    "id": "ytgB_DqDNT_3"
   },
   "outputs": [
    {
     "data": {
      "text/plain": [
       "cirq.Z(cirq.GridQubit(0, 0))"
      ]
     },
     "execution_count": 15,
     "metadata": {},
     "output_type": "execute_result"
    }
   ],
   "source": [
    "pauli_z = cirq.Z(qubit)\n",
    "pauli_z"
   ]
  },
  {
   "cell_type": "markdown",
   "metadata": {
    "colab_type": "text",
    "id": "r51TZls4NT_6"
   },
   "source": [
    "If this observable is used with the same circuit as before, then you have $f_{2}(\\alpha) = ⟨Y(\\alpha)| Z | Y(\\alpha)⟩ = \\cos(\\pi \\alpha)$ and $f_{2}^{'}(\\alpha) = -\\pi \\sin(\\pi \\alpha)$. Perform a quick check:"
   ]
  },
  {
   "cell_type": "code",
   "execution_count": 16,
   "metadata": {
    "colab": {},
    "colab_type": "code",
    "execution": {
     "iopub.execute_input": "2022-02-04T12:25:27.368561Z",
     "iopub.status.busy": "2022-02-04T12:25:27.367971Z",
     "iopub.status.idle": "2022-02-04T12:25:27.369870Z",
     "shell.execute_reply": "2022-02-04T12:25:27.370265Z"
    },
    "id": "19FKgu0ANT_7"
   },
   "outputs": [
    {
     "name": "stdout",
     "output_type": "stream",
     "text": [
      "Finite difference: -0.04934072494506836\n",
      "Sin formula:       -0.0\n"
     ]
    }
   ],
   "source": [
    "test_value = 0.\n",
    "\n",
    "print('Finite difference:', my_grad(pauli_z, test_value))\n",
    "print('Sin formula:      ', -np.pi * np.sin(np.pi * test_value))"
   ]
  },
  {
   "cell_type": "markdown",
   "metadata": {
    "colab_type": "text",
    "id": "_33Y5mL0NT_-"
   },
   "source": [
    "It's a match (close enough).\n",
    "\n",
    "Now if you define $g(\\alpha) = f_{1}(\\alpha) + f_{2}(\\alpha)$ then $g'(\\alpha) = f_{1}^{'}(\\alpha) + f^{'}_{2}(\\alpha)$. Defining more than one observable in TensorFlow Quantum to use along with a circuit is equivalent to adding on more terms to $g$.\n",
    "\n",
    "This means that the gradient of a particular symbol in a circuit is equal to the sum of the gradients with regards to each observable for that symbol applied to that circuit. This is compatible with TensorFlow gradient taking and backpropagation (where you give the sum of the gradients over all observables as the gradient for a particular symbol)."
   ]
  },
  {
   "cell_type": "code",
   "execution_count": 17,
   "metadata": {
    "colab": {},
    "colab_type": "code",
    "execution": {
     "iopub.execute_input": "2022-02-04T12:25:27.375012Z",
     "iopub.status.busy": "2022-02-04T12:25:27.374380Z",
     "iopub.status.idle": "2022-02-04T12:25:27.389594Z",
     "shell.execute_reply": "2022-02-04T12:25:27.389950Z"
    },
    "id": "3WFJfFEbNT_-"
   },
   "outputs": [
    {
     "data": {
      "text/plain": [
       "<tf.Tensor: shape=(1, 2), dtype=float32, numpy=array([[1.9106855e-15, 1.0000000e+00]], dtype=float32)>"
      ]
     },
     "execution_count": 17,
     "metadata": {},
     "output_type": "execute_result"
    }
   ],
   "source": [
    "sum_of_outputs = tfq.layers.Expectation(\n",
    "    differentiator=tfq.differentiators.ForwardDifference(grid_spacing=0.01))\n",
    "\n",
    "sum_of_outputs(my_circuit,\n",
    "               operators=[pauli_x, pauli_z],\n",
    "               symbol_names=['alpha'],\n",
    "               symbol_values=[[test_value]])"
   ]
  },
  {
   "cell_type": "markdown",
   "metadata": {
    "colab_type": "text",
    "id": "-ujQUu3WNUAB"
   },
   "source": [
    "Here you see the first entry is the expectation w.r.t Pauli X, and the second is the expectation w.r.t Pauli Z. Now when you take the gradient:"
   ]
  },
  {
   "cell_type": "code",
   "execution_count": 18,
   "metadata": {
    "colab": {},
    "colab_type": "code",
    "execution": {
     "iopub.execute_input": "2022-02-04T12:25:27.399749Z",
     "iopub.status.busy": "2022-02-04T12:25:27.398831Z",
     "iopub.status.idle": "2022-02-04T12:25:27.606472Z",
     "shell.execute_reply": "2022-02-04T12:25:27.606839Z"
    },
    "id": "jcAQa9l0NUAB"
   },
   "outputs": [
    {
     "name": "stdout",
     "output_type": "stream",
     "text": [
      "3.0917350202798843\n",
      "[[3.0917213]]\n"
     ]
    }
   ],
   "source": [
    "test_value_tensor = tf.convert_to_tensor([[test_value]])\n",
    "\n",
    "with tf.GradientTape() as g:\n",
    "    g.watch(test_value_tensor)\n",
    "    outputs = sum_of_outputs(my_circuit,\n",
    "                             operators=[pauli_x, pauli_z],\n",
    "                             symbol_names=['alpha'],\n",
    "                             symbol_values=test_value_tensor)\n",
    "\n",
    "sum_of_gradients = g.gradient(outputs, test_value_tensor)\n",
    "\n",
    "print(my_grad(pauli_x, test_value) + my_grad(pauli_z, test_value))\n",
    "print(sum_of_gradients.numpy())"
   ]
  },
  {
   "cell_type": "markdown",
   "metadata": {
    "colab_type": "text",
    "id": "-fZmbYGANUAE"
   },
   "source": [
    "Here you have verified that the sum of the gradients for each observable is indeed the gradient of $\\alpha$. This behavior is supported by all TensorFlow Quantum differentiators and plays a crucial role in the compatibility with the rest of TensorFlow."
   ]
  },
  {
   "cell_type": "markdown",
   "metadata": {
    "colab_type": "text",
    "id": "lZsGG7lWNUAF"
   },
   "source": [
    "## 4. Advanced usage\n",
    "All differentiators that exist inside of TensorFlow Quantum subclass `tfq.differentiators.Differentiator`. To implement a differentiator, a user must implement one of two interfaces.  The standard is to implement `get_gradient_circuits`, which tells the base class which circuits to measure to obtain an estimate of the gradient.  Alternatively, you can overload `differentiate_analytic` and `differentiate_sampled`; the class `tfq.differentiators.Adjoint` takes this route.\n",
    "\n",
    "The following uses TensorFlow Quantum to implement the gradient of a circuit.  You will use a small example of parameter shifting."
   ]
  },
  {
   "cell_type": "markdown",
   "metadata": {
    "id": "J1xN6Ln5mB9N"
   },
   "source": [
    "Recall the circuit you defined above, $|\\alpha⟩ = Y^{\\alpha}|0⟩$.  As before, you can define a function as the expectation value of this circuit against the $X$ observable, $f(\\alpha) = ⟨\\alpha|X|\\alpha⟩$.  Using [parameter shift rules](https://pennylane.ai/qml/glossary/parameter_shift.html), for this circuit, you can find that the derivative is\n",
    "$$\\frac{\\partial}{\\partial \\alpha} f(\\alpha) = \\frac{\\pi}{2} f\\left(\\alpha + \\frac{1}{2}\\right) -  \\frac{ \\pi}{2} f\\left(\\alpha - \\frac{1}{2}\\right)$$\n",
    "The `get_gradient_circuits` function returns the components of this derivative."
   ]
  },
  {
   "cell_type": "code",
   "execution_count": 19,
   "metadata": {
    "colab": {},
    "colab_type": "code",
    "execution": {
     "iopub.execute_input": "2022-02-04T12:25:27.614557Z",
     "iopub.status.busy": "2022-02-04T12:25:27.613881Z",
     "iopub.status.idle": "2022-02-04T12:25:27.615565Z",
     "shell.execute_reply": "2022-02-04T12:25:27.615919Z"
    },
    "id": "5iY4q6FKNUAG"
   },
   "outputs": [],
   "source": [
    "class MyDifferentiator(tfq.differentiators.Differentiator):\n",
    "    \"\"\"A Toy differentiator for <Y^alpha | X |Y^alpha>.\"\"\"\n",
    "\n",
    "    def __init__(self):\n",
    "        pass\n",
    "\n",
    "    def get_gradient_circuits(self, programs, symbol_names, symbol_values):\n",
    "        \"\"\"Return circuits to compute gradients for given forward pass circuits.\n",
    "        \n",
    "        Every gradient on a quantum computer can be computed via measurements\n",
    "        of transformed quantum circuits.  Here, you implement a custom gradient\n",
    "        for a specific circuit.  For a real differentiator, you will need to\n",
    "        implement this function in a more general way.  See the differentiator\n",
    "        implementations in the TFQ library for examples.\n",
    "        \"\"\"\n",
    "\n",
    "        # The two terms in the derivative are the same circuit...\n",
    "        batch_programs = tf.stack([programs, programs], axis=1)\n",
    "\n",
    "        # ... with shifted parameter values.\n",
    "        shift = tf.constant(1/2)\n",
    "        forward = symbol_values + shift\n",
    "        backward = symbol_values - shift\n",
    "        batch_symbol_values = tf.stack([forward, backward], axis=1)\n",
    "  \n",
    "        # Weights are the coefficients of the terms in the derivative.\n",
    "        num_program_copies = tf.shape(batch_programs)[0]\n",
    "        batch_weights = tf.tile(tf.constant([[[np.pi/2, -np.pi/2]]]),\n",
    "                                [num_program_copies, 1, 1])\n",
    "\n",
    "        # The index map simply says which weights go with which circuits.\n",
    "        batch_mapper = tf.tile(\n",
    "            tf.constant([[[0, 1]]]), [num_program_copies, 1, 1])\n",
    "\n",
    "        return (batch_programs, symbol_names, batch_symbol_values,\n",
    "                batch_weights, batch_mapper)"
   ]
  },
  {
   "cell_type": "markdown",
   "metadata": {
    "colab_type": "text",
    "id": "bvEgw2m6NUAI"
   },
   "source": [
    "The `Differentiator` base class uses the components returned from `get_gradient_circuits` to calculate the derivative, as in the parameter shift formula you saw above.  This new differentiator can now be used with existing `tfq.layer` objects:"
   ]
  },
  {
   "cell_type": "code",
   "execution_count": 20,
   "metadata": {
    "colab": {},
    "colab_type": "code",
    "execution": {
     "iopub.execute_input": "2022-02-04T12:25:27.628775Z",
     "iopub.status.busy": "2022-02-04T12:25:27.628101Z",
     "iopub.status.idle": "2022-02-04T12:25:27.992835Z",
     "shell.execute_reply": "2022-02-04T12:25:27.993269Z"
    },
    "id": "QrKnkWswNUAJ"
   },
   "outputs": [
    {
     "data": {
      "text/plain": [
       "Text(0.5, 0, 'x')"
      ]
     },
     "execution_count": 20,
     "metadata": {},
     "output_type": "execute_result"
    },
    {
     "data": {
      "image/png": "[encoded data removed]",
      "text/plain": [
       "<Figure size 432x288 with 2 Axes>"
      ]
     },
     "metadata": {
      "needs_background": "light"
     },
     "output_type": "display_data"
    }
   ],
   "source": [
    "custom_dif = MyDifferentiator()\n",
    "custom_grad_expectation = tfq.layers.Expectation(differentiator=custom_dif)\n",
    "\n",
    "# Now let's get the gradients with finite diff.\n",
    "with tf.GradientTape() as g:\n",
    "    g.watch(values_tensor)\n",
    "    exact_outputs = expectation_calculation(my_circuit,\n",
    "                                            operators=[pauli_x],\n",
    "                                            symbol_names=['alpha'],\n",
    "                                            symbol_values=values_tensor)\n",
    "\n",
    "analytic_finite_diff_gradients = g.gradient(exact_outputs, values_tensor)\n",
    "\n",
    "# Now let's get the gradients with custom diff.\n",
    "with tf.GradientTape() as g:\n",
    "    g.watch(values_tensor)\n",
    "    my_outputs = custom_grad_expectation(my_circuit,\n",
    "                                         operators=[pauli_x],\n",
    "                                         symbol_names=['alpha'],\n",
    "                                         symbol_values=values_tensor)\n",
    "\n",
    "my_gradients = g.gradient(my_outputs, values_tensor)\n",
    "\n",
    "plt.subplot(1, 2, 1)\n",
    "plt.title('Exact Gradient')\n",
    "plt.plot(input_points, analytic_finite_diff_gradients.numpy())\n",
    "plt.xlabel('x')\n",
    "plt.ylabel('f(x)')\n",
    "plt.subplot(1, 2, 2)\n",
    "plt.title('My Gradient')\n",
    "plt.plot(input_points, my_gradients.numpy())\n",
    "plt.xlabel('x')"
   ]
  },
  {
   "cell_type": "markdown",
   "metadata": {
    "colab_type": "text",
    "id": "oXqcJWigNUAL"
   },
   "source": [
    "This new differentiator can now be used to generate differentiable ops.\n",
    "\n",
    "Key Point: A differentiator that has been previously attached to an op must be refreshed before attaching to a new op, because a differentiator may only be attached to one op at a time."
   ]
  },
  {
   "cell_type": "code",
   "execution_count": 21,
   "metadata": {
    "colab": {},
    "colab_type": "code",
    "execution": {
     "iopub.execute_input": "2022-02-04T12:25:28.006117Z",
     "iopub.status.busy": "2022-02-04T12:25:28.005301Z",
     "iopub.status.idle": "2022-02-04T12:25:28.332298Z",
     "shell.execute_reply": "2022-02-04T12:25:28.332665Z"
    },
    "id": "F_WHcj3bNUAM"
   },
   "outputs": [
    {
     "name": "stdout",
     "output_type": "stream",
     "text": [
      "---TFQ---\n",
      "Foward:   [[0.8016]]\n",
      "Gradient: [[1.7932211]]\n",
      "---Original---\n",
      "Forward:  0.80901700258255\n",
      "Gradient: 1.8063604831695557\n"
     ]
    }
   ],
   "source": [
    "# Create a noisy sample based expectation op.\n",
    "expectation_sampled = tfq.get_sampled_expectation_op(\n",
    "    cirq.DensityMatrixSimulator(noise=cirq.depolarize(0.01)))\n",
    "\n",
    "# Make it differentiable with your differentiator:\n",
    "# Remember to refresh the differentiator before attaching the new op\n",
    "custom_dif.refresh()\n",
    "differentiable_op = custom_dif.generate_differentiable_op(\n",
    "    sampled_op=expectation_sampled)\n",
    "\n",
    "# Prep op inputs.\n",
    "circuit_tensor = tfq.convert_to_tensor([my_circuit])\n",
    "op_tensor = tfq.convert_to_tensor([[pauli_x]])\n",
    "single_value = tf.convert_to_tensor([[my_alpha]])\n",
    "num_samples_tensor = tf.convert_to_tensor([[5000]])\n",
    "\n",
    "with tf.GradientTape() as g:\n",
    "    g.watch(single_value)\n",
    "    forward_output = differentiable_op(circuit_tensor, ['alpha'], single_value,\n",
    "                                       op_tensor, num_samples_tensor)\n",
    "\n",
    "my_gradients = g.gradient(forward_output, single_value)\n",
    "\n",
    "print('---TFQ---')\n",
    "print('Foward:  ', forward_output.numpy())\n",
    "print('Gradient:', my_gradients.numpy())\n",
    "print('---Original---')\n",
    "print('Forward: ', my_expectation(pauli_x, my_alpha))\n",
    "print('Gradient:', my_grad(pauli_x, my_alpha))"
   ]
  },
  {
   "cell_type": "markdown",
   "metadata": {
    "colab_type": "text",
    "id": "OGWcpqzDNUAP"
   },
   "source": [
    "Success: Now you can use all the differentiators that TensorFlow Quantum has to offer—and define your own."
   ]
  }
 ],
 "metadata": {
  "colab": {
   "collapsed_sections": [],
   "name": "gradients.ipynb",
   "private_outputs": true,
   "provenance": [],
   "toc_visible": true
  },
  "kernelspec": {
   "display_name": "Python 3",
   "language": "python",
   "name": "python3"
  },
  "language_info": {
   "codemirror_mode": {
    "name": "ipython",
    "version": 3
   },
   "file_extension": ".py",
   "mimetype": "text/x-python",
   "name": "python",
   "nbconvert_exporter": "python",
   "pygments_lexer": "ipython3",
   "version": "3.7.5"
  }
 },
 "nbformat": 4,
 "nbformat_minor": 0
}
